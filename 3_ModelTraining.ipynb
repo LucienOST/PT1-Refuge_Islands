{
 "cells": [
  {
   "cell_type": "markdown",
   "id": "1645c41f",
   "metadata": {},
   "source": [
    "# Part 3: Model training\n",
    "\n",
    "##### A CPU is needed to run this notebook!\n",
    "\n",
    "In this notebook, a pretrained convolutional network is loaded from the fastai API. The network architecture is a ResNet18 -meaning, a residual network with 18 hidden layers.\n",
    "\n",
    "Altough fastai abstracts and facilitates large parts of the model buliding process, some pre-configurations have to be implemented before the model can be fed with the training data. These are:\n",
    "\n",
    "- Strip labels and define \"codes\" for correct interpretation\n",
    "- Define image enlargement methods which can be applied by the model to train also on slightly altered images\n",
    "- Set up model paramaters and architecture\n",
    "- Define metrics for lerning rate\n",
    "\n",
    "The applied knowledge in this notebook is based on the Practical Deep Learning Course from fastai: https://course.fast.ai/"
   ]
  },
  {
   "cell_type": "code",
   "execution_count": 1,
   "id": "10a9e27c",
   "metadata": {},
   "outputs": [],
   "source": [
    "from fastai.vision.all import*"
   ]
  },
  {
   "cell_type": "code",
   "execution_count": 2,
   "id": "9c380c25",
   "metadata": {},
   "outputs": [
    {
     "data": {
      "text/plain": [
       "True"
      ]
     },
     "execution_count": 2,
     "metadata": {},
     "output_type": "execute_result"
    }
   ],
   "source": [
    "TRAINING_SET_PATH = Path('./data/training_set/')\n",
    "TRAINING_IMAGES_PATH = TRAINING_SET_PATH/'images'\n",
    "TRAINING_MASKS_PATH = TRAINING_SET_PATH/'masks'\n",
    "# Verify if paths exist\n",
    "TRAINING_SET_PATH.exists() == TRAINING_IMAGES_PATH.exists() == TRAINING_MASKS_PATH.exists() == True"
   ]
  },
  {
   "cell_type": "markdown",
   "id": "62143e96",
   "metadata": {},
   "source": [
    "#### Mask preparation\n",
    "\n",
    "In a first step, the model needs to be told how to interprete the labels. The created masks are defined and are stripped from their filetype extension. Furthermore, codes are assigned to the masks for correct labeling and easier interpretation of the results."
   ]
  },
  {
   "cell_type": "code",
   "execution_count": 3,
   "id": "3071291b",
   "metadata": {},
   "outputs": [],
   "source": [
    "# Define the mask path to be used by the model and stem the filetype extention in the image name\n",
    "def label_func(fn):\n",
    "    return TRAINING_MASKS_PATH / f\"{fn.stem}.png\"\n",
    "\n",
    "# Assigned codes\n",
    "codes = 255 * [\"not_island\"]\n",
    "codes.append('island')"
   ]
  },
  {
   "cell_type": "markdown",
   "id": "4bf4d557",
   "metadata": {},
   "source": [
    "In order to use the full potential of the given dataset, the model is allowed to create sligh variations of the input image. Therefore, the model can train on more data and ultimately deliver better results.\n",
    "> In this example, the images are rotated, the brightness is changed, and new images are created by applying zoom on the original image "
   ]
  },
  {
   "cell_type": "code",
   "execution_count": 4,
   "id": "5eb122da",
   "metadata": {},
   "outputs": [],
   "source": [
    "# Define image augmentation options for model\n",
    "batch_tfms = aug_transforms(flip_vert=True, max_lighting=0.1, max_zoom=1.05, max_warp=0.2)"
   ]
  },
  {
   "cell_type": "markdown",
   "id": "2110bf5d",
   "metadata": {},
   "source": [
    "### Setup DataLoader\n",
    "\n",
    "#### Data block\n",
    "A data block is a generic container to quickly build Datasets and DataLoaders. Here, all the required components for the calculations are assigned to the model (required output, dtype and format, label function, augementation methods)\n",
    "\n",
    "#### Data loader\n",
    "Here, the input data gets assigned. Furthermore, how many samples (images) should be loaded per batch (bs). A random seed is used to ensure that results are reproducible. In other words, using this parameter makes sure that anyone who re-runs the code will get the exact same outputs."
   ]
  },
  {
   "cell_type": "code",
   "execution_count": 5,
   "id": "9e6c8d3b",
   "metadata": {},
   "outputs": [
    {
     "name": "stdout",
     "output_type": "stream",
     "text": [
      "Due to IPython and Windows limitation, python multiprocessing isn't available now.\n",
      "So `number_workers` is changed to 0 to avoid getting stuck\n"
     ]
    },
    {
     "name": "stderr",
     "output_type": "stream",
     "text": [
      "C:\\Users\\lucie\\anaconda3\\envs\\image_segmentation\\lib\\site-packages\\torch\\_tensor.py:1142: UserWarning: __floordiv__ is deprecated, and its behavior will change in a future version of pytorch. It currently rounds toward 0 (like the 'trunc' function NOT 'floor'). This results in incorrect rounding for negative values. To keep the current behavior, use torch.div(a, b, rounding_mode='trunc'), or for actual floor division, use torch.div(a, b, rounding_mode='floor').\n",
      "  ret = func(*args, **kwargs)\n"
     ]
    }
   ],
   "source": [
    "# Datablock\n",
    "crossDB = DataBlock(blocks=(ImageBlock, MaskBlock(codes)),\n",
    "                            get_items = get_image_files,\n",
    "                            get_y = label_func,\n",
    "                            item_tfms=Resize(394),\n",
    "                            batch_tfms=batch_tfms)\n",
    "\n",
    "# Dataloader\n",
    "dls = crossDB.dataloaders(TRAINING_IMAGES_PATH,bs=5, seed=47)\n",
    "\n",
    "# Interpretation of the labels\n",
    "dls.vocab = codes\n",
    "\n",
    "#Optimizer\n",
    "opt = ranger"
   ]
  },
  {
   "cell_type": "markdown",
   "id": "078169be",
   "metadata": {},
   "source": [
    "### Define Learner strategy\n",
    "\n",
    "Own metrics on how to interpret the results of each epoch can be assigned (function below). Here the accuracy is measured by comparing the output mask of the model with the target mask. It measures how many pixel values are correct. The result is printed after each epoch."
   ]
  },
  {
   "cell_type": "code",
   "execution_count": 6,
   "id": "ee37a886",
   "metadata": {},
   "outputs": [],
   "source": [
    "# Metric\n",
    "def calc_accuracy(inp, targ):\n",
    "  targ = targ.squeeze(1)\n",
    "  mask = targ == 255\n",
    "  return (inp.argmax(dim=1)[mask]==targ[mask]).float().mean()"
   ]
  },
  {
   "cell_type": "markdown",
   "id": "fb3bb853",
   "metadata": {},
   "source": [
    "Now all defined parameters have to be assinged to the learner. Also, the architecture is defined here py loading the pretrained resnet18."
   ]
  },
  {
   "cell_type": "code",
   "execution_count": 7,
   "id": "38a69ab4",
   "metadata": {},
   "outputs": [],
   "source": [
    "learn = unet_learner(dls, resnet18, metrics=calc_accuracy,  self_attention=True,act_cls=Mish,opt_func=opt)"
   ]
  },
  {
   "cell_type": "markdown",
   "id": "01b0b638",
   "metadata": {},
   "source": [
    "Fastai can automatically find a proper learning rate using the lr_find() function for the previously built learner:"
   ]
  },
  {
   "cell_type": "code",
   "execution_count": null,
   "id": "a19a222c",
   "metadata": {},
   "outputs": [],
   "source": [
    "lr_min,lr_steep = learn.lr_find(suggest_funcs=(minimum,steep))"
   ]
  },
  {
   "cell_type": "markdown",
   "id": "bb529af9",
   "metadata": {},
   "source": [
    "Now the actual training process beginns. It starts with 4 training epochs to test if all is working properly. Freezing prevents the weights of a neural network layer from being modified. To continue the training, the model must be unfreezed."
   ]
  },
  {
   "cell_type": "code",
   "execution_count": 6,
   "id": "8607ee8a",
   "metadata": {},
   "outputs": [
    {
     "data": {
      "text/html": [
       "\n",
       "<style>\n",
       "    /* Turns off some styling */\n",
       "    progress {\n",
       "        /* gets rid of default border in Firefox and Opera. */\n",
       "        border: none;\n",
       "        /* Needs to be in here for Safari polyfill so background images work as expected. */\n",
       "        background-size: auto;\n",
       "    }\n",
       "    .progress-bar-interrupted, .progress-bar-interrupted::-webkit-progress-bar {\n",
       "        background: #F44336;\n",
       "    }\n",
       "</style>\n"
      ],
      "text/plain": [
       "<IPython.core.display.HTML object>"
      ]
     },
     "metadata": {},
     "output_type": "display_data"
    },
    {
     "data": {
      "text/html": [
       "<table border=\"1\" class=\"dataframe\">\n",
       "  <thead>\n",
       "    <tr style=\"text-align: left;\">\n",
       "      <th>epoch</th>\n",
       "      <th>train_loss</th>\n",
       "      <th>valid_loss</th>\n",
       "      <th>calc_accuracy</th>\n",
       "      <th>time</th>\n",
       "    </tr>\n",
       "  </thead>\n",
       "  <tbody>\n",
       "    <tr>\n",
       "      <td>0</td>\n",
       "      <td>14.808592</td>\n",
       "      <td>0.019832</td>\n",
       "      <td>0.089812</td>\n",
       "      <td>02:13</td>\n",
       "    </tr>\n",
       "    <tr>\n",
       "      <td>1</td>\n",
       "      <td>0.015428</td>\n",
       "      <td>0.010720</td>\n",
       "      <td>0.516481</td>\n",
       "      <td>02:13</td>\n",
       "    </tr>\n",
       "    <tr>\n",
       "      <td>2</td>\n",
       "      <td>0.010131</td>\n",
       "      <td>0.008949</td>\n",
       "      <td>0.577732</td>\n",
       "      <td>02:16</td>\n",
       "    </tr>\n",
       "    <tr>\n",
       "      <td>3</td>\n",
       "      <td>0.007220</td>\n",
       "      <td>0.007035</td>\n",
       "      <td>0.728739</td>\n",
       "      <td>02:16</td>\n",
       "    </tr>\n",
       "  </tbody>\n",
       "</table>"
      ],
      "text/plain": [
       "<IPython.core.display.HTML object>"
      ]
     },
     "metadata": {},
     "output_type": "display_data"
    },
    {
     "data": {
      "text/html": [
       "\n",
       "<style>\n",
       "    /* Turns off some styling */\n",
       "    progress {\n",
       "        /* gets rid of default border in Firefox and Opera. */\n",
       "        border: none;\n",
       "        /* Needs to be in here for Safari polyfill so background images work as expected. */\n",
       "        background-size: auto;\n",
       "    }\n",
       "    .progress-bar-interrupted, .progress-bar-interrupted::-webkit-progress-bar {\n",
       "        background: #F44336;\n",
       "    }\n",
       "</style>\n"
      ],
      "text/plain": [
       "<IPython.core.display.HTML object>"
      ]
     },
     "metadata": {},
     "output_type": "display_data"
    },
    {
     "data": {
      "text/html": [
       "<table border=\"1\" class=\"dataframe\">\n",
       "  <thead>\n",
       "    <tr style=\"text-align: left;\">\n",
       "      <th>epoch</th>\n",
       "      <th>train_loss</th>\n",
       "      <th>valid_loss</th>\n",
       "      <th>calc_accuracy</th>\n",
       "      <th>time</th>\n",
       "    </tr>\n",
       "  </thead>\n",
       "  <tbody>\n",
       "    <tr>\n",
       "      <td>0</td>\n",
       "      <td>0.007357</td>\n",
       "      <td>0.006987</td>\n",
       "      <td>0.740200</td>\n",
       "      <td>02:18</td>\n",
       "    </tr>\n",
       "    <tr>\n",
       "      <td>1</td>\n",
       "      <td>0.006406</td>\n",
       "      <td>0.006883</td>\n",
       "      <td>0.734939</td>\n",
       "      <td>02:19</td>\n",
       "    </tr>\n",
       "    <tr>\n",
       "      <td>2</td>\n",
       "      <td>0.007750</td>\n",
       "      <td>0.006877</td>\n",
       "      <td>0.779731</td>\n",
       "      <td>02:19</td>\n",
       "    </tr>\n",
       "    <tr>\n",
       "      <td>3</td>\n",
       "      <td>0.005983</td>\n",
       "      <td>0.006639</td>\n",
       "      <td>0.752450</td>\n",
       "      <td>02:19</td>\n",
       "    </tr>\n",
       "    <tr>\n",
       "      <td>4</td>\n",
       "      <td>0.006459</td>\n",
       "      <td>0.006419</td>\n",
       "      <td>0.760159</td>\n",
       "      <td>02:19</td>\n",
       "    </tr>\n",
       "    <tr>\n",
       "      <td>5</td>\n",
       "      <td>0.006173</td>\n",
       "      <td>0.006343</td>\n",
       "      <td>0.780071</td>\n",
       "      <td>02:20</td>\n",
       "    </tr>\n",
       "    <tr>\n",
       "      <td>6</td>\n",
       "      <td>0.006517</td>\n",
       "      <td>0.006055</td>\n",
       "      <td>0.775187</td>\n",
       "      <td>02:20</td>\n",
       "    </tr>\n",
       "    <tr>\n",
       "      <td>7</td>\n",
       "      <td>0.005605</td>\n",
       "      <td>0.006128</td>\n",
       "      <td>0.777016</td>\n",
       "      <td>02:18</td>\n",
       "    </tr>\n",
       "    <tr>\n",
       "      <td>8</td>\n",
       "      <td>0.006660</td>\n",
       "      <td>0.005798</td>\n",
       "      <td>0.792072</td>\n",
       "      <td>02:18</td>\n",
       "    </tr>\n",
       "    <tr>\n",
       "      <td>9</td>\n",
       "      <td>0.005963</td>\n",
       "      <td>0.005835</td>\n",
       "      <td>0.768255</td>\n",
       "      <td>02:18</td>\n",
       "    </tr>\n",
       "    <tr>\n",
       "      <td>10</td>\n",
       "      <td>0.005810</td>\n",
       "      <td>0.005754</td>\n",
       "      <td>0.770129</td>\n",
       "      <td>02:18</td>\n",
       "    </tr>\n",
       "    <tr>\n",
       "      <td>11</td>\n",
       "      <td>0.004994</td>\n",
       "      <td>0.005795</td>\n",
       "      <td>0.787243</td>\n",
       "      <td>02:21</td>\n",
       "    </tr>\n",
       "    <tr>\n",
       "      <td>12</td>\n",
       "      <td>0.005858</td>\n",
       "      <td>0.005700</td>\n",
       "      <td>0.785767</td>\n",
       "      <td>02:20</td>\n",
       "    </tr>\n",
       "    <tr>\n",
       "      <td>13</td>\n",
       "      <td>0.005498</td>\n",
       "      <td>0.005569</td>\n",
       "      <td>0.798791</td>\n",
       "      <td>02:20</td>\n",
       "    </tr>\n",
       "    <tr>\n",
       "      <td>14</td>\n",
       "      <td>0.005067</td>\n",
       "      <td>0.005570</td>\n",
       "      <td>0.796427</td>\n",
       "      <td>02:17</td>\n",
       "    </tr>\n",
       "    <tr>\n",
       "      <td>15</td>\n",
       "      <td>0.005704</td>\n",
       "      <td>0.005550</td>\n",
       "      <td>0.794909</td>\n",
       "      <td>02:19</td>\n",
       "    </tr>\n",
       "    <tr>\n",
       "      <td>16</td>\n",
       "      <td>0.005000</td>\n",
       "      <td>0.005540</td>\n",
       "      <td>0.787779</td>\n",
       "      <td>02:20</td>\n",
       "    </tr>\n",
       "    <tr>\n",
       "      <td>17</td>\n",
       "      <td>0.005565</td>\n",
       "      <td>0.005524</td>\n",
       "      <td>0.785989</td>\n",
       "      <td>02:20</td>\n",
       "    </tr>\n",
       "    <tr>\n",
       "      <td>18</td>\n",
       "      <td>0.005491</td>\n",
       "      <td>0.005539</td>\n",
       "      <td>0.788913</td>\n",
       "      <td>02:20</td>\n",
       "    </tr>\n",
       "    <tr>\n",
       "      <td>19</td>\n",
       "      <td>0.004947</td>\n",
       "      <td>0.005505</td>\n",
       "      <td>0.788477</td>\n",
       "      <td>02:20</td>\n",
       "    </tr>\n",
       "    <tr>\n",
       "      <td>20</td>\n",
       "      <td>0.004870</td>\n",
       "      <td>0.005578</td>\n",
       "      <td>0.787763</td>\n",
       "      <td>02:20</td>\n",
       "    </tr>\n",
       "    <tr>\n",
       "      <td>21</td>\n",
       "      <td>0.005359</td>\n",
       "      <td>0.005536</td>\n",
       "      <td>0.803136</td>\n",
       "      <td>02:19</td>\n",
       "    </tr>\n",
       "    <tr>\n",
       "      <td>22</td>\n",
       "      <td>0.005309</td>\n",
       "      <td>0.005514</td>\n",
       "      <td>0.797221</td>\n",
       "      <td>02:18</td>\n",
       "    </tr>\n",
       "    <tr>\n",
       "      <td>23</td>\n",
       "      <td>0.005473</td>\n",
       "      <td>0.005491</td>\n",
       "      <td>0.794768</td>\n",
       "      <td>02:18</td>\n",
       "    </tr>\n",
       "    <tr>\n",
       "      <td>24</td>\n",
       "      <td>0.004903</td>\n",
       "      <td>0.005511</td>\n",
       "      <td>0.793489</td>\n",
       "      <td>02:21</td>\n",
       "    </tr>\n",
       "  </tbody>\n",
       "</table>"
      ],
      "text/plain": [
       "<IPython.core.display.HTML object>"
      ]
     },
     "metadata": {},
     "output_type": "display_data"
    }
   ],
   "source": [
    "learn.fit_one_cycle(4,5e-3)\n",
    "learn.unfreeze()\n",
    "learn.fit_one_cycle(25,lr_max = slice(1e-6,1e-4))"
   ]
  },
  {
   "cell_type": "code",
   "execution_count": 7,
   "id": "1879bb3e",
   "metadata": {},
   "outputs": [],
   "source": [
    "# export learner\n",
    "learn.export()"
   ]
  },
  {
   "cell_type": "code",
   "execution_count": 8,
   "id": "3001e7a2",
   "metadata": {},
   "outputs": [
    {
     "data": {
      "text/plain": [
       "(#1) [Path('export.pkl')]"
      ]
     },
     "execution_count": 8,
     "metadata": {},
     "output_type": "execute_result"
    }
   ],
   "source": [
    "# verify that export was successfuly\n",
    "path = Path()\n",
    "path.ls(file_exts='.pkl')"
   ]
  }
 ],
 "metadata": {
  "kernelspec": {
   "display_name": "Python 3 (ipykernel)",
   "language": "python",
   "name": "python3"
  },
  "language_info": {
   "codemirror_mode": {
    "name": "ipython",
    "version": 3
   },
   "file_extension": ".py",
   "mimetype": "text/x-python",
   "name": "python",
   "nbconvert_exporter": "python",
   "pygments_lexer": "ipython3",
   "version": "3.9.12"
  }
 },
 "nbformat": 4,
 "nbformat_minor": 5
}
