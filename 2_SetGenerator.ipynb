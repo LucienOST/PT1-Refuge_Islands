{
 "cells": [
  {
   "cell_type": "markdown",
   "metadata": {},
   "source": [
    "# Part 2: Create test set and training set\n",
    "\n",
    "In this second notebook, the created png images and their equivalent masks are assigned to either the training set or the test set. Best practice is to shuffle the data and assign approximately 80% to the training set and the other 20% to the test set:\n",
    "\n",
    ">Indicated with bucket size (percentage)\n",
    "\n",
    "The following two things must be checked afterwards:\n",
    "\n",
    "- Are the total amount of images in the two sets equal to the original number of images (same goes for masks). If not, either not all data is used or wrong data slipped in.\n",
    "- Are the number of images and masks in each of does sets equal. If not, there are images without labels or labels without images, thus, this data can not be used further."
   ]
  },
  {
   "cell_type": "code",
   "execution_count": 1,
   "metadata": {},
   "outputs": [],
   "source": [
    "import os\n",
    "from fastai.vision.all import *"
   ]
  },
  {
   "cell_type": "code",
   "execution_count": 2,
   "metadata": {},
   "outputs": [
    {
     "name": "stdout",
     "output_type": "stream",
     "text": [
      "Creating random sets..\n",
      "Copying training images/masks..\n"
     ]
    },
    {
     "name": "stderr",
     "output_type": "stream",
     "text": [
      "/tmp/ipykernel_10316/530079207.py:24: DeprecationWarning: Sampling from a set deprecated\n",
      "since Python 3.9 and will be removed in a subsequent version.\n",
      "  train_idx = set(random.sample(total_idx,training_amt))\n"
     ]
    },
    {
     "name": "stdout",
     "output_type": "stream",
     "text": [
      "Copying test images/masks..\n",
      "Verifying correctness of splitting..\n",
      "  OK: Total images equal as train and test images!\n",
      "  OK: Number of Train/Test Images corresponds with Train/Test Mask!\n"
     ]
    }
   ],
   "source": [
    "DATASET_PATH = Path(os.getcwd()) / \"data\"\n",
    "MASKS_PATH = DATASET_PATH  / \"masks\"\n",
    "IMAGES_PNG_PATH = DATASET_PATH / \"images_png\"\n",
    "TRAINING_PATH = DATASET_PATH/\"training_set\"\n",
    "TEST_PATH =  DATASET_PATH/\"test_set\"\n",
    "\n",
    "for path in [TRAINING_PATH,TEST_PATH]:\n",
    "    if not path.exists():\n",
    "        os.mkdir(path)\n",
    "        os.mkdir(path/'images')\n",
    "        os.mkdir(path/'masks')\n",
    "\n",
    "TRAINING_IMAGES_PATH = TRAINING_PATH/'images'\n",
    "TRAINING_MASK_PATH = TRAINING_PATH/'masks'\n",
    "TEST_IMAGES_PATH = TEST_PATH/'images'\n",
    "TEST_MASK_PATH = TEST_PATH/'masks'\n",
    "    \n",
    "def create_random_buckets(training_rte):\n",
    "    print('Creating random sets..')\n",
    "    training_amt = round(len(IMAGES_PNG_PATH.ls()) * training_rte)\n",
    "    testing_amt = len(IMAGES_PNG_PATH.ls()) - training_amt\n",
    "\n",
    "    total_idx = set(range(len(IMAGES_PNG_PATH.ls())))\n",
    "    train_idx = set(random.sample(total_idx,training_amt))\n",
    "    test_idx = total_idx-train_idx\n",
    "    \n",
    "    \n",
    "    if not any(TRAINING_IMAGES_PATH.ls()):\n",
    "        print('Copying training images/masks..')\n",
    "        for idx in train_idx:\n",
    "            shutil.copy(IMAGES_PNG_PATH.ls()[idx],TRAINING_IMAGES_PATH)\n",
    "    \n",
    "        [[shutil.copy(mask,TRAINING_MASK_PATH) for mask in MASKS_PATH.ls() if img.stem == mask.stem] for img in TRAINING_IMAGES_PATH.ls()]            \n",
    " \n",
    "    \n",
    "    if not any(TEST_IMAGES_PATH.ls()):\n",
    "        print('Copying test images/masks..')\n",
    "        for idx in test_idx:\n",
    "            shutil.copy(IMAGES_PNG_PATH.ls()[idx],TEST_IMAGES_PATH)\n",
    "                    \n",
    "        [[shutil.copy(mask,TEST_MASK_PATH) for mask in MASKS_PATH.ls() if img.stem == mask.stem] for img in TEST_IMAGES_PATH.ls()]            \n",
    "\n",
    "    \n",
    "    print('Verifying correctness of splitting..')\n",
    "    if len(IMAGES_PNG_PATH.ls()) == len(TRAINING_IMAGES_PATH.ls()) + len(TEST_IMAGES_PATH.ls()):\n",
    "        print('  OK: Total images equal as train and test images!')\n",
    "    else:\n",
    "        print('  NOK: Total images NOT EQUAL to train and test images!')\n",
    "\n",
    "    if len(TRAINING_IMAGES_PATH.ls()) == len(TRAINING_MASK_PATH.ls()) and len(TEST_IMAGES_PATH.ls()) == len(TEST_MASK_PATH.ls()):\n",
    "        print('  OK: Number of Train/Test Images corresponds with Train/Test Mask!')\n",
    "    else:\n",
    "        print('  OK: Number of Images DOES NOT corresponds with Train/Test Mask!')    \n",
    "create_random_buckets(0.8)"
   ]
  },
  {
   "cell_type": "code",
   "execution_count": null,
   "metadata": {},
   "outputs": [],
   "source": []
  }
 ],
 "metadata": {
  "kernelspec": {
   "display_name": "Python 3",
   "language": "python",
   "name": "python3"
  },
  "language_info": {
   "codemirror_mode": {
    "name": "ipython",
    "version": 3
   },
   "file_extension": ".py",
   "mimetype": "text/x-python",
   "name": "python",
   "nbconvert_exporter": "python",
   "pygments_lexer": "ipython3",
   "version": "3.7.6"
  }
 },
 "nbformat": 4,
 "nbformat_minor": 5
}
